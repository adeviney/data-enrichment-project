{
 "cells": [
  {
   "cell_type": "markdown",
   "id": "fd8da1e1",
   "metadata": {},
   "source": [
    "# Use CDF to Calculate Probabilities (Practice)\n",
    "- Alexis Deviney\n",
    "- 5/2/22"
   ]
  },
  {
   "cell_type": "code",
   "execution_count": 1,
   "id": "6e0bf5a4",
   "metadata": {},
   "outputs": [],
   "source": [
    "import pandas as pd\n",
    "import numpy as np\n",
    "import matplotlib.pyplot as plt\n",
    "import seaborn as sns\n",
    "import scipy.stats as stats"
   ]
  },
  {
   "cell_type": "code",
   "execution_count": 4,
   "id": "a318428e",
   "metadata": {
    "scrolled": true
   },
   "outputs": [
    {
     "data": {
      "text/html": [
       "<div>\n",
       "<style scoped>\n",
       "    .dataframe tbody tr th:only-of-type {\n",
       "        vertical-align: middle;\n",
       "    }\n",
       "\n",
       "    .dataframe tbody tr th {\n",
       "        vertical-align: top;\n",
       "    }\n",
       "\n",
       "    .dataframe thead th {\n",
       "        text-align: right;\n",
       "    }\n",
       "</style>\n",
       "<table border=\"1\" class=\"dataframe\">\n",
       "  <thead>\n",
       "    <tr style=\"text-align: right;\">\n",
       "      <th></th>\n",
       "      <th>Gender</th>\n",
       "      <th>Height</th>\n",
       "      <th>Weight</th>\n",
       "    </tr>\n",
       "  </thead>\n",
       "  <tbody>\n",
       "    <tr>\n",
       "      <th>0</th>\n",
       "      <td>Male</td>\n",
       "      <td>73.847017</td>\n",
       "      <td>241.893563</td>\n",
       "    </tr>\n",
       "    <tr>\n",
       "      <th>1</th>\n",
       "      <td>Male</td>\n",
       "      <td>68.781904</td>\n",
       "      <td>162.310473</td>\n",
       "    </tr>\n",
       "    <tr>\n",
       "      <th>2</th>\n",
       "      <td>Male</td>\n",
       "      <td>74.110105</td>\n",
       "      <td>212.740856</td>\n",
       "    </tr>\n",
       "    <tr>\n",
       "      <th>3</th>\n",
       "      <td>Male</td>\n",
       "      <td>71.730978</td>\n",
       "      <td>220.042470</td>\n",
       "    </tr>\n",
       "    <tr>\n",
       "      <th>4</th>\n",
       "      <td>Male</td>\n",
       "      <td>69.881796</td>\n",
       "      <td>206.349801</td>\n",
       "    </tr>\n",
       "  </tbody>\n",
       "</table>\n",
       "</div>"
      ],
      "text/plain": [
       "  Gender     Height      Weight\n",
       "0   Male  73.847017  241.893563\n",
       "1   Male  68.781904  162.310473\n",
       "2   Male  74.110105  212.740856\n",
       "3   Male  71.730978  220.042470\n",
       "4   Male  69.881796  206.349801"
      ]
     },
     "execution_count": 4,
     "metadata": {},
     "output_type": "execute_result"
    }
   ],
   "source": [
    "df = pd.read_csv('https://docs.google.com/spreadsheets/d/e/2PACX-1vRxp-hsw61ck9cpt5ExZIUhvSGT5zYzoUJl_7xr7YF5qZeazC8393q2taqwkDvMxVirgFDJm1WX3uAC/pub?output=csv')\n",
    "df.head()"
   ]
  },
  {
   "cell_type": "markdown",
   "id": "2b351568",
   "metadata": {},
   "source": [
    "Use the normal cumulative distribution function with the mean and standard deviation of female height to calculate the probability that a female's height is:\n",
    "\n",
    "1. between 55.0 and 56.0 inches\n",
    "\n",
    "2. is less than 5 feet (60 in)\n",
    "\n",
    "3. is greater than than the mean (hint: do you know this answer intuitively?)\n"
   ]
  },
  {
   "cell_type": "code",
   "execution_count": 33,
   "id": "d74d95ab",
   "metadata": {},
   "outputs": [],
   "source": [
    "def calculate_prob_cdf(data, low_end = None, high_end = None):\n",
    "    mean = np.mean(data)\n",
    "    std = np.std(data)\n",
    "    min = np.min(data)\n",
    "    max = np.max(data)\n",
    "    x_range = np.linspace(min, max,1000)\n",
    "    cdf = stats.norm.cdf(x_range, loc=mean, scale=std)\n",
    "    fig, ax = plt.subplots(figsize=(12,6))\n",
    "    sns.histplot(x=data, stat='density', cumulative = True)\n",
    "    ax.plot(x_range,cdf)\n",
    "    try:\n",
    "        ax.axvline(low_end, color= 'black')\n",
    "        ax.axvline(high_end, color ='black')\n",
    "        ax.axvspan(low_end, high_end, color ='yellow', zorder = 0)\n",
    "        return stats.norm.cdf(high_end, loc=mean,scale=std) - stats.norm.cdf(low_end,loc=mean, scale=std)\n",
    "    except TypeError as e:\n",
    "        if low_end is None:\n",
    "            ax.axvline(high_end, color ='black')\n",
    "            ax.axvspan(min, high_end, color ='yellow', zorder = 0)\n",
    "            return stats.norm.cdf(high_end, loc=mean,scale=std)\n",
    "        elif high_end is None:\n",
    "            ax.axvline(low_end, color= 'black')\n",
    "            ax.axvspan(low_end, max, color ='yellow', zorder = 0)\n",
    "            return 1-stats.norm.cdf(low_end, loc=mean,scale=std)\n",
    "        else:\n",
    "            print(\"Oops! Either low_end or high_end needs to be specified.\")\n"
   ]
  },
  {
   "cell_type": "code",
   "execution_count": 8,
   "id": "b3442346",
   "metadata": {},
   "outputs": [],
   "source": [
    "females = df.loc[df['Gender'] == 'Female']\n",
    "data = females['Height']"
   ]
  },
  {
   "cell_type": "markdown",
   "id": "b3a81c1e",
   "metadata": {},
   "source": [
    "## Probability of height between 55.0 and 56.0 inches"
   ]
  },
  {
   "cell_type": "code",
   "execution_count": 29,
   "id": "a2346105",
   "metadata": {
    "scrolled": true
   },
   "outputs": [
    {
     "data": {
      "text/plain": [
       "0.6833905516766098"
      ]
     },
     "execution_count": 29,
     "metadata": {},
     "output_type": "execute_result"
    },
    {
     "data": {
      "image/png": "[encoded data removed]",
      "text/plain": [
       "<Figure size 864x432 with 1 Axes>"
      ]
     },
     "metadata": {
      "needs_background": "light"
     },
     "output_type": "display_data"
    }
   ],
   "source": [
    "calculate_prob_cdf(data, 55, 65)"
   ]
  },
  {
   "cell_type": "markdown",
   "id": "4e6e7782",
   "metadata": {},
   "source": [
    "## Probability of height less than 5 ft"
   ]
  },
  {
   "cell_type": "code",
   "execution_count": 30,
   "id": "4febe2f8",
   "metadata": {
    "scrolled": false
   },
   "outputs": [
    {
     "data": {
      "text/plain": [
       "0.0844649272520746"
      ]
     },
     "execution_count": 30,
     "metadata": {},
     "output_type": "execute_result"
    },
    {
     "data": {
      "image/png": "[encoded data removed]",
      "text/plain": [
       "<Figure size 864x432 with 1 Axes>"
      ]
     },
     "metadata": {
      "needs_background": "light"
     },
     "output_type": "display_data"
    }
   ],
   "source": [
    "calculate_prob_cdf(data, None, 60)"
   ]
  },
  {
   "cell_type": "markdown",
   "id": "125f4b3c",
   "metadata": {},
   "source": [
    "## Probability of Height Greater than the Mean\n",
    "\n",
    "Intuitively, the answer to this is 50%. This is confirmed mathematically:"
   ]
  },
  {
   "cell_type": "code",
   "execution_count": 34,
   "id": "823d5bc1",
   "metadata": {
    "scrolled": false
   },
   "outputs": [
    {
     "data": {
      "text/plain": [
       "0.5"
      ]
     },
     "execution_count": 34,
     "metadata": {},
     "output_type": "execute_result"
    },
    {
     "data": {
      "image/png": "[encoded data removed]",
      "text/plain": [
       "<Figure size 864x432 with 1 Axes>"
      ]
     },
     "metadata": {
      "needs_background": "light"
     },
     "output_type": "display_data"
    }
   ],
   "source": [
    "calculate_prob_cdf(data, np.mean(data), None)"
   ]
  }
 ],
 "metadata": {
  "kernelspec": {
   "display_name": "Python (dojo-env)",
   "language": "python",
   "name": "dojo-env"
  },
  "language_info": {
   "codemirror_mode": {
    "name": "ipython",
    "version": 3
   },
   "file_extension": ".py",
   "mimetype": "text/x-python",
   "name": "python",
   "nbconvert_exporter": "python",
   "pygments_lexer": "ipython3",
   "version": "3.7.12"
  },
  "toc": {
   "base_numbering": 1,
   "nav_menu": {},
   "number_sections": true,
   "sideBar": true,
   "skip_h1_title": false,
   "title_cell": "Table of Contents",
   "title_sidebar": "Contents",
   "toc_cell": false,
   "toc_position": {},
   "toc_section_display": true,
   "toc_window_display": false
  }
 },
 "nbformat": 4,
 "nbformat_minor": 5
}
