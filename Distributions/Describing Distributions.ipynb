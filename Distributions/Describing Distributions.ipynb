{
 "cells": [
  {
   "cell_type": "markdown",
   "id": "f6b20374",
   "metadata": {},
   "source": [
    "# Describing Distributions (Core)\n",
    "- Alexis Deviney\n",
    "- 05/02/22\n"
   ]
  },
  {
   "cell_type": "code",
   "execution_count": 1,
   "id": "5490b09e",
   "metadata": {},
   "outputs": [],
   "source": [
    "import pandas as pd\n",
    "import numpy as np\n",
    "import matplotlib.pyplot as plt\n",
    "import seaborn as sns\n",
    "from sklearn.preprocessing import StandardScaler\n",
    "from scipy import stats"
   ]
  },
  {
   "cell_type": "markdown",
   "id": "513aae38",
   "metadata": {},
   "source": [
    "In this assignment, you will be analyzing & visualizing several features in the Medical Dataset.\n",
    "\n",
    "The features to analyze: \n",
    "* VitD_levels\n",
    "* Doc_visits\n",
    "* TotalCharge\n",
    "\n",
    "For each feature listed:\n",
    "\n",
    "* Plot a histogram with a kde (kernel density estimate)\n",
    "    * Add a line for the mean (red)\n",
    "    * Add a line for the median (green)\n",
    "    * Add a line for for +1 std from the mean (black)\n",
    "    * Add a line for the - 1 std from the mean (black)\n",
    "    * Highlight the range between +1 and =1 std (yellow)\n",
    "* Answer the following questions:\n",
    "    * Is it Discrete or Continuous?\n",
    "    * Does it have a skew? If so, which direction (+/-)\n",
    "    * What type of kurtosis does it display? (Mesokurtic, Leptokurtic, Platykurtic)"
   ]
  },
  {
   "cell_type": "code",
   "execution_count": 2,
   "id": "26531eb3",
   "metadata": {
    "scrolled": true
   },
   "outputs": [
    {
     "data": {
      "text/html": [
       "<div>\n",
       "<style scoped>\n",
       "    .dataframe tbody tr th:only-of-type {\n",
       "        vertical-align: middle;\n",
       "    }\n",
       "\n",
       "    .dataframe tbody tr th {\n",
       "        vertical-align: top;\n",
       "    }\n",
       "\n",
       "    .dataframe thead th {\n",
       "        text-align: right;\n",
       "    }\n",
       "</style>\n",
       "<table border=\"1\" class=\"dataframe\">\n",
       "  <thead>\n",
       "    <tr style=\"text-align: right;\">\n",
       "      <th></th>\n",
       "      <th>State</th>\n",
       "      <th>Lat</th>\n",
       "      <th>Lng</th>\n",
       "      <th>Area</th>\n",
       "      <th>Children</th>\n",
       "      <th>Age</th>\n",
       "      <th>Income</th>\n",
       "      <th>Marital</th>\n",
       "      <th>Gender</th>\n",
       "      <th>ReAdmis</th>\n",
       "      <th>...</th>\n",
       "      <th>Hyperlipidemia</th>\n",
       "      <th>BackPain</th>\n",
       "      <th>Anxiety</th>\n",
       "      <th>Allergic_rhinitis</th>\n",
       "      <th>Reflux_esophagitis</th>\n",
       "      <th>Asthma</th>\n",
       "      <th>Services</th>\n",
       "      <th>Initial_days</th>\n",
       "      <th>TotalCharge</th>\n",
       "      <th>Additional_charges</th>\n",
       "    </tr>\n",
       "  </thead>\n",
       "  <tbody>\n",
       "    <tr>\n",
       "      <th>0</th>\n",
       "      <td>AL</td>\n",
       "      <td>34.34960</td>\n",
       "      <td>-86.72508</td>\n",
       "      <td>Suburban</td>\n",
       "      <td>1.0</td>\n",
       "      <td>53</td>\n",
       "      <td>86575.93</td>\n",
       "      <td>Divorced</td>\n",
       "      <td>Male</td>\n",
       "      <td>0</td>\n",
       "      <td>...</td>\n",
       "      <td>0.0</td>\n",
       "      <td>1.0</td>\n",
       "      <td>1.0</td>\n",
       "      <td>1.0</td>\n",
       "      <td>0</td>\n",
       "      <td>1</td>\n",
       "      <td>Blood Work</td>\n",
       "      <td>10.585770</td>\n",
       "      <td>3726.702860</td>\n",
       "      <td>17939.403420</td>\n",
       "    </tr>\n",
       "    <tr>\n",
       "      <th>1</th>\n",
       "      <td>FL</td>\n",
       "      <td>30.84513</td>\n",
       "      <td>-85.22907</td>\n",
       "      <td>Urban</td>\n",
       "      <td>3.0</td>\n",
       "      <td>51</td>\n",
       "      <td>46805.99</td>\n",
       "      <td>Married</td>\n",
       "      <td>Female</td>\n",
       "      <td>0</td>\n",
       "      <td>...</td>\n",
       "      <td>0.0</td>\n",
       "      <td>0.0</td>\n",
       "      <td>0.0</td>\n",
       "      <td>0.0</td>\n",
       "      <td>1</td>\n",
       "      <td>0</td>\n",
       "      <td>Intravenous</td>\n",
       "      <td>15.129562</td>\n",
       "      <td>4193.190458</td>\n",
       "      <td>17612.998120</td>\n",
       "    </tr>\n",
       "    <tr>\n",
       "      <th>2</th>\n",
       "      <td>SD</td>\n",
       "      <td>43.54321</td>\n",
       "      <td>-96.63772</td>\n",
       "      <td>Suburban</td>\n",
       "      <td>3.0</td>\n",
       "      <td>53</td>\n",
       "      <td>14370.14</td>\n",
       "      <td>Widowed</td>\n",
       "      <td>Female</td>\n",
       "      <td>0</td>\n",
       "      <td>...</td>\n",
       "      <td>0.0</td>\n",
       "      <td>0.0</td>\n",
       "      <td>0.0</td>\n",
       "      <td>0.0</td>\n",
       "      <td>0</td>\n",
       "      <td>0</td>\n",
       "      <td>Blood Work</td>\n",
       "      <td>4.772177</td>\n",
       "      <td>2434.234222</td>\n",
       "      <td>17505.192460</td>\n",
       "    </tr>\n",
       "    <tr>\n",
       "      <th>3</th>\n",
       "      <td>MN</td>\n",
       "      <td>43.89744</td>\n",
       "      <td>-93.51479</td>\n",
       "      <td>Suburban</td>\n",
       "      <td>0.0</td>\n",
       "      <td>78</td>\n",
       "      <td>39741.49</td>\n",
       "      <td>Married</td>\n",
       "      <td>Male</td>\n",
       "      <td>0</td>\n",
       "      <td>...</td>\n",
       "      <td>0.0</td>\n",
       "      <td>0.0</td>\n",
       "      <td>0.0</td>\n",
       "      <td>0.0</td>\n",
       "      <td>1</td>\n",
       "      <td>1</td>\n",
       "      <td>Blood Work</td>\n",
       "      <td>1.714879</td>\n",
       "      <td>2127.830423</td>\n",
       "      <td>12993.437350</td>\n",
       "    </tr>\n",
       "    <tr>\n",
       "      <th>4</th>\n",
       "      <td>VA</td>\n",
       "      <td>37.59894</td>\n",
       "      <td>-76.88958</td>\n",
       "      <td>Rural</td>\n",
       "      <td>1.0</td>\n",
       "      <td>22</td>\n",
       "      <td>1209.56</td>\n",
       "      <td>Widowed</td>\n",
       "      <td>Female</td>\n",
       "      <td>0</td>\n",
       "      <td>...</td>\n",
       "      <td>1.0</td>\n",
       "      <td>0.0</td>\n",
       "      <td>0.0</td>\n",
       "      <td>1.0</td>\n",
       "      <td>0</td>\n",
       "      <td>0</td>\n",
       "      <td>CT Scan</td>\n",
       "      <td>1.254807</td>\n",
       "      <td>2113.073274</td>\n",
       "      <td>3716.525786</td>\n",
       "    </tr>\n",
       "  </tbody>\n",
       "</table>\n",
       "<p>5 rows × 32 columns</p>\n",
       "</div>"
      ],
      "text/plain": [
       "  State       Lat       Lng      Area  Children  Age    Income   Marital  \\\n",
       "0    AL  34.34960 -86.72508  Suburban       1.0   53  86575.93  Divorced   \n",
       "1    FL  30.84513 -85.22907     Urban       3.0   51  46805.99   Married   \n",
       "2    SD  43.54321 -96.63772  Suburban       3.0   53  14370.14   Widowed   \n",
       "3    MN  43.89744 -93.51479  Suburban       0.0   78  39741.49   Married   \n",
       "4    VA  37.59894 -76.88958     Rural       1.0   22   1209.56   Widowed   \n",
       "\n",
       "   Gender  ReAdmis  ...  Hyperlipidemia  BackPain  Anxiety  Allergic_rhinitis  \\\n",
       "0    Male        0  ...             0.0       1.0      1.0                1.0   \n",
       "1  Female        0  ...             0.0       0.0      0.0                0.0   \n",
       "2  Female        0  ...             0.0       0.0      0.0                0.0   \n",
       "3    Male        0  ...             0.0       0.0      0.0                0.0   \n",
       "4  Female        0  ...             1.0       0.0      0.0                1.0   \n",
       "\n",
       "   Reflux_esophagitis Asthma     Services  Initial_days  TotalCharge  \\\n",
       "0                   0      1   Blood Work     10.585770  3726.702860   \n",
       "1                   1      0  Intravenous     15.129562  4193.190458   \n",
       "2                   0      0   Blood Work      4.772177  2434.234222   \n",
       "3                   1      1   Blood Work      1.714879  2127.830423   \n",
       "4                   0      0      CT Scan      1.254807  2113.073274   \n",
       "\n",
       "   Additional_charges  \n",
       "0        17939.403420  \n",
       "1        17612.998120  \n",
       "2        17505.192460  \n",
       "3        12993.437350  \n",
       "4         3716.525786  \n",
       "\n",
       "[5 rows x 32 columns]"
      ]
     },
     "execution_count": 2,
     "metadata": {},
     "output_type": "execute_result"
    }
   ],
   "source": [
    "df = pd.read_csv('https://docs.google.com/spreadsheets/d/1APV3pXiAszS_0mSgkiEt9IUNH-QmyX7KwxSAwuADl6Y/gviz/tq?tqx=out:csv&sheet=medical_data')\n",
    "df.head()"
   ]
  },
  {
   "cell_type": "code",
   "execution_count": 3,
   "id": "5ae02e45",
   "metadata": {},
   "outputs": [
    {
     "data": {
      "text/plain": [
       "Index(['State', 'Lat', 'Lng', 'Area', 'Children', 'Age', 'Income', 'Marital',\n",
       "       'Gender', 'ReAdmis', 'VitD_levels', 'Doc_visits', 'Full_meals_eaten',\n",
       "       'vitD_supp', 'Soft_drink', 'Initial_admin', 'HighBlood', 'Stroke',\n",
       "       'Complication_risk', 'Overweight', 'Arthritis', 'Diabetes',\n",
       "       'Hyperlipidemia', 'BackPain', 'Anxiety', 'Allergic_rhinitis',\n",
       "       'Reflux_esophagitis', 'Asthma', 'Services', 'Initial_days',\n",
       "       'TotalCharge', 'Additional_charges'],\n",
       "      dtype='object')"
      ]
     },
     "execution_count": 3,
     "metadata": {},
     "output_type": "execute_result"
    }
   ],
   "source": [
    "df.columns"
   ]
  },
  {
   "cell_type": "code",
   "execution_count": 4,
   "id": "c675ef6d",
   "metadata": {},
   "outputs": [
    {
     "data": {
      "text/html": [
       "<div>\n",
       "<style scoped>\n",
       "    .dataframe tbody tr th:only-of-type {\n",
       "        vertical-align: middle;\n",
       "    }\n",
       "\n",
       "    .dataframe tbody tr th {\n",
       "        vertical-align: top;\n",
       "    }\n",
       "\n",
       "    .dataframe thead th {\n",
       "        text-align: right;\n",
       "    }\n",
       "</style>\n",
       "<table border=\"1\" class=\"dataframe\">\n",
       "  <thead>\n",
       "    <tr style=\"text-align: right;\">\n",
       "      <th></th>\n",
       "      <th>VitD_levels</th>\n",
       "      <th>Doc_visits</th>\n",
       "      <th>TotalCharge</th>\n",
       "    </tr>\n",
       "  </thead>\n",
       "  <tbody>\n",
       "    <tr>\n",
       "      <th>0</th>\n",
       "      <td>19.141466</td>\n",
       "      <td>6</td>\n",
       "      <td>3726.702860</td>\n",
       "    </tr>\n",
       "    <tr>\n",
       "      <th>1</th>\n",
       "      <td>18.940352</td>\n",
       "      <td>4</td>\n",
       "      <td>4193.190458</td>\n",
       "    </tr>\n",
       "    <tr>\n",
       "      <th>2</th>\n",
       "      <td>18.057507</td>\n",
       "      <td>4</td>\n",
       "      <td>2434.234222</td>\n",
       "    </tr>\n",
       "    <tr>\n",
       "      <th>3</th>\n",
       "      <td>16.576858</td>\n",
       "      <td>4</td>\n",
       "      <td>2127.830423</td>\n",
       "    </tr>\n",
       "    <tr>\n",
       "      <th>4</th>\n",
       "      <td>17.439069</td>\n",
       "      <td>5</td>\n",
       "      <td>2113.073274</td>\n",
       "    </tr>\n",
       "  </tbody>\n",
       "</table>\n",
       "</div>"
      ],
      "text/plain": [
       "   VitD_levels  Doc_visits  TotalCharge\n",
       "0    19.141466           6  3726.702860\n",
       "1    18.940352           4  4193.190458\n",
       "2    18.057507           4  2434.234222\n",
       "3    16.576858           4  2127.830423\n",
       "4    17.439069           5  2113.073274"
      ]
     },
     "execution_count": 4,
     "metadata": {},
     "output_type": "execute_result"
    }
   ],
   "source": [
    "df = df[['VitD_levels', 'Doc_visits', 'TotalCharge']]\n",
    "df.head()"
   ]
  },
  {
   "cell_type": "code",
   "execution_count": 5,
   "id": "f0a849c7",
   "metadata": {},
   "outputs": [],
   "source": [
    "def plot_function(df, feature):\n",
    "    fig = plt.figure(figsize=(8, 6))\n",
    "    ax = sns.histplot(x=df[feature],kde=True)\n",
    "    mean = df[feature].mean()\n",
    "    median = df[feature].median()\n",
    "    std = df[feature].std()\n",
    "    ax.axvline(mean, color='r', label=f'Mean = {mean:,.2f}')\n",
    "    ax.axvline(median, color='g', label=f'Median = {median:,.2f}')\n",
    "    ax.axvline(mean-std, color = 'k', label = f'─1 StDev = {mean-std:,.2f}')\n",
    "    ax.axvline(mean+std, color = 'k', label = f'+1 StDev = {mean+std:,.2f}')\n",
    "    ax.axvspan(mean-std,mean+std,color = 'y',zorder = 0)\n",
    "    ax.set_title(feature);\n",
    "    ax.legend()\n",
    "    \n",
    "    \n",
    "    # Question Answers\n",
    "    print('Answers to Questions')\n",
    "    print('1. Is it Discrete or Continuous?')\n",
    "    if ((df.dtypes[feature] == 'float') & (df[feature].nunique()/ df[feature].count() > .90)):\n",
    "        #probably continuous\n",
    "        print(\"Continuous\")\n",
    "    else:\n",
    "        print(\"Discrete\")\n",
    "    print('\\n2. Does it have a skew? If so, which direction (+/-)')\n",
    "    skew = round(stats.skew(df[feature]),1)\n",
    "    skew_class = 'Normal; no skew' if skew == 0 else 'Negative Skew' if skew < 0 else 'Positive Skew'\n",
    "    print(skew_class)\n",
    "    \n",
    "    print('\\n3. What type of kurtosis does it display? (Mesokurtic, Leptokurtic, Platykurtic)')\n",
    "    kurt_val = stats.kurtosis(df[feature], fisher = False)\n",
    "    kurt_class = 'Mesokurtic' if round(kurt_val,1) == 3 else 'Leptokurtic' if kurt_val > 3 else 'Platykurtic'\n",
    "    print(f'kurtosis = {kurt_val:.2f}, {kurt_class}')"
   ]
  },
  {
   "cell_type": "markdown",
   "id": "d171dc7a",
   "metadata": {},
   "source": [
    "## VitD_levels"
   ]
  },
  {
   "cell_type": "code",
   "execution_count": 6,
   "id": "4a1e534d",
   "metadata": {
    "scrolled": false
   },
   "outputs": [
    {
     "name": "stdout",
     "output_type": "stream",
     "text": [
      "Answers to Questions\n",
      "1. Is it Discrete or Continuous?\n",
      "Continuous\n",
      "\n",
      "2. Does it have a skew? If so, which direction (+/-)\n",
      "Normal; no skew\n",
      "\n",
      "3. What type of kurtosis does it display? (Mesokurtic, Leptokurtic, Platykurtic)\n",
      "kurtosis = 3.01, Mesokurtic\n"
     ]
    },
    {
     "data": {
      "image/png": "[encoded data removed]",
      "text/plain": [
       "<Figure size 576x432 with 1 Axes>"
      ]
     },
     "metadata": {
      "needs_background": "light"
     },
     "output_type": "display_data"
    }
   ],
   "source": [
    "plot_function(df, 'VitD_levels')"
   ]
  },
  {
   "cell_type": "markdown",
   "id": "23be236e",
   "metadata": {},
   "source": [
    "## Doc_visits"
   ]
  },
  {
   "cell_type": "code",
   "execution_count": 7,
   "id": "d1681e4e",
   "metadata": {},
   "outputs": [
    {
     "name": "stdout",
     "output_type": "stream",
     "text": [
      "Answers to Questions\n",
      "1. Is it Discrete or Continuous?\n",
      "Discrete\n",
      "\n",
      "2. Does it have a skew? If so, which direction (+/-)\n",
      "Normal; no skew\n",
      "\n",
      "3. What type of kurtosis does it display? (Mesokurtic, Leptokurtic, Platykurtic)\n",
      "kurtosis = 2.99, Mesokurtic\n"
     ]
    },
    {
     "data": {
      "image/png": "[encoded data removed]",
      "text/plain": [
       "<Figure size 576x432 with 1 Axes>"
      ]
     },
     "metadata": {
      "needs_background": "light"
     },
     "output_type": "display_data"
    }
   ],
   "source": [
    "plot_function(df, 'Doc_visits')"
   ]
  },
  {
   "cell_type": "markdown",
   "id": "051686a4",
   "metadata": {},
   "source": [
    "## TotalCharge"
   ]
  },
  {
   "cell_type": "code",
   "execution_count": 8,
   "id": "74a0a407",
   "metadata": {},
   "outputs": [
    {
     "name": "stdout",
     "output_type": "stream",
     "text": [
      "Answers to Questions\n",
      "1. Is it Discrete or Continuous?\n",
      "Continuous\n",
      "\n",
      "2. Does it have a skew? If so, which direction (+/-)\n",
      "Positive Skew\n",
      "\n",
      "3. What type of kurtosis does it display? (Mesokurtic, Leptokurtic, Platykurtic)\n",
      "kurtosis = 3.27, Leptokurtic\n"
     ]
    },
    {
     "data": {
      "image/png": "[encoded data removed]",
      "text/plain": [
       "<Figure size 576x432 with 1 Axes>"
      ]
     },
     "metadata": {
      "needs_background": "light"
     },
     "output_type": "display_data"
    }
   ],
   "source": [
    "plot_function(df, 'TotalCharge')"
   ]
  }
 ],
 "metadata": {
  "kernelspec": {
   "display_name": "Python (dojo-env)",
   "language": "python",
   "name": "dojo-env"
  },
  "language_info": {
   "codemirror_mode": {
    "name": "ipython",
    "version": 3
   },
   "file_extension": ".py",
   "mimetype": "text/x-python",
   "name": "python",
   "nbconvert_exporter": "python",
   "pygments_lexer": "ipython3",
   "version": "3.7.12"
  },
  "toc": {
   "base_numbering": 1,
   "nav_menu": {},
   "number_sections": true,
   "sideBar": true,
   "skip_h1_title": false,
   "title_cell": "Table of Contents",
   "title_sidebar": "Contents",
   "toc_cell": false,
   "toc_position": {},
   "toc_section_display": true,
   "toc_window_display": false
  }
 },
 "nbformat": 4,
 "nbformat_minor": 5
}
