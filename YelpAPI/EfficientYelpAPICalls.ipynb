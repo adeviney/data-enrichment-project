{
 "cells": [
  {
   "cell_type": "markdown",
   "id": "5c222881",
   "metadata": {},
   "source": [
    "# Efficient Yelp API Calls (Core)\n",
    "- Alexis Deviney\n",
    "- 4/23/22"
   ]
  },
  {
   "cell_type": "markdown",
   "id": "c50e324c",
   "metadata": {},
   "source": [
    "For this assignment, you will be working with the Yelp API.\n",
    "\n",
    "As before, you will use the Yelp API to search your your favorite city for a cuisine type of your choice.\n",
    "\n",
    "Extract all of the results from your search and compile them into one dataframe using a for loop as shown in the lesson \"Code for Efficient API Extraction\"\n",
    "\n",
    "Save your notebook, commit the change to your repository and submit the repository URL for this assignment.\n",
    "\n"
   ]
  },
  {
   "cell_type": "code",
   "execution_count": 1,
   "id": "d6a6d9ea",
   "metadata": {},
   "outputs": [],
   "source": [
    "import numpy as np\n",
    "import pandas as pd\n",
    "import os, json, math, time\n",
    "from yelpapi import YelpAPI\n",
    "from tqdm.notebook import tqdm_notebook"
   ]
  },
  {
   "cell_type": "code",
   "execution_count": 2,
   "id": "c703764f",
   "metadata": {},
   "outputs": [],
   "source": [
    "# Load API Credentials\n",
    "with open('/Users/Alexis/.secret/yelp_api.json') as f:\n",
    "    login = json.load(f)\n",
    "# Instantiate YelpAPI Variable\n",
    "yelp_api = YelpAPI(login['api-key'], timeout_s=5.0)"
   ]
  },
  {
   "cell_type": "code",
   "execution_count": 3,
   "id": "92d13209",
   "metadata": {},
   "outputs": [],
   "source": [
    "LOCATION = 'San Francisco, CA 94104'\n",
    "TERM = 'Vegan'"
   ]
  },
  {
   "cell_type": "code",
   "execution_count": 5,
   "id": "94ba96af",
   "metadata": {},
   "outputs": [
    {
     "data": {
      "text/plain": [
       "'Data/results_in_progress_Vegan_food_SF.json'"
      ]
     },
     "execution_count": 5,
     "metadata": {},
     "output_type": "execute_result"
    }
   ],
   "source": [
    "JSON_FILE = f\"Data/results_in_progress_Vegan_food_SF.json\"\n",
    "JSON_FILE"
   ]
  },
  {
   "cell_type": "code",
   "execution_count": 6,
   "id": "3b72f5e8",
   "metadata": {},
   "outputs": [
    {
     "name": "stdout",
     "output_type": "stream",
     "text": [
      "[i] Data/results_in_progress_Vegan_food_SF.json not found. Saving empty list to file.\n"
     ]
    }
   ],
   "source": [
    "## Check if JSON_FILE exists\n",
    "file_exists = os.path.isfile(JSON_FILE)\n",
    "## If it does not exist: \n",
    "if file_exists == False:\n",
    "    \n",
    "    ## CREATE ANY NEEDED FOLDERS\n",
    "    # Get the Folder Name only\n",
    "    folder = os.path.dirname(JSON_FILE)\n",
    "    ## If JSON_FILE included a folder:\n",
    "    if len(folder)>0:\n",
    "        # create the folder\n",
    "        os.makedirs(folder,exist_ok=True)\n",
    "        \n",
    "        \n",
    "    ## INFORM USER AND SAVE EMPTY LIST\n",
    "    print(f\"[i] {JSON_FILE} not found. Saving empty list to file.\")\n",
    "    \n",
    "    \n",
    "    ## save the first page of results\n",
    "    with open(JSON_FILE,'w') as f:\n",
    "        json.dump([],f)  \n",
    "## If it exists, inform user\n",
    "else:\n",
    "    print(f\"[i] {JSON_FILE} already exists.\")"
   ]
  },
  {
   "cell_type": "code",
   "execution_count": 7,
   "id": "68214e18",
   "metadata": {},
   "outputs": [
    {
     "name": "stdout",
     "output_type": "stream",
     "text": [
      "- 0 previous results found.\n"
     ]
    }
   ],
   "source": [
    "## Load previous results and use len of results for offset\n",
    "with open(JSON_FILE,'r') as f:\n",
    "    previous_results = json.load(f)\n",
    "    \n",
    "## set offset based on previous results\n",
    "n_results = len(previous_results)\n",
    "print(f'- {n_results} previous results found.')"
   ]
  },
  {
   "cell_type": "code",
   "execution_count": 8,
   "id": "62289afa",
   "metadata": {},
   "outputs": [
    {
     "data": {
      "text/plain": [
       "dict_keys(['businesses', 'total', 'region'])"
      ]
     },
     "execution_count": 8,
     "metadata": {},
     "output_type": "execute_result"
    }
   ],
   "source": [
    "# use our yelp_api variable's search_query method to perform our API call\n",
    "results = yelp_api.search_query(location=LOCATION,\n",
    "                                term=TERM,\n",
    "                               offset=n_results)\n",
    "results.keys()"
   ]
  },
  {
   "cell_type": "code",
   "execution_count": 9,
   "id": "23bdbd3d",
   "metadata": {},
   "outputs": [
    {
     "data": {
      "text/plain": [
       "628"
      ]
     },
     "execution_count": 9,
     "metadata": {},
     "output_type": "execute_result"
    }
   ],
   "source": [
    "## How many results total?\n",
    "total_results = results['total']\n",
    "total_results"
   ]
  },
  {
   "cell_type": "code",
   "execution_count": 10,
   "id": "92215b5b",
   "metadata": {},
   "outputs": [
    {
     "data": {
      "text/plain": [
       "20"
      ]
     },
     "execution_count": 10,
     "metadata": {},
     "output_type": "execute_result"
    }
   ],
   "source": [
    "## How many did we get the details for?\n",
    "results_per_page = len(results['businesses'])\n",
    "results_per_page"
   ]
  },
  {
   "cell_type": "code",
   "execution_count": 11,
   "id": "1dcbd0dc",
   "metadata": {},
   "outputs": [
    {
     "data": {
      "text/plain": [
       "32"
      ]
     },
     "execution_count": 11,
     "metadata": {},
     "output_type": "execute_result"
    }
   ],
   "source": [
    "# Use math.ceil to round up for the total number of pages of results.\n",
    "n_pages = math.ceil((total_results-n_results)/ results_per_page)\n",
    "n_pages"
   ]
  },
  {
   "cell_type": "code",
   "execution_count": 12,
   "id": "5c510d8a",
   "metadata": {},
   "outputs": [],
   "source": [
    "# join new results with old list with extend and save to file\n",
    "previous_results.extend(results['businesses'])  \n",
    "with open(JSON_FILE,'w') as f:\n",
    "     json.dump(previous_results,f)"
   ]
  },
  {
   "cell_type": "code",
   "execution_count": 13,
   "id": "3d3506e8",
   "metadata": {},
   "outputs": [
    {
     "data": {
      "application/vnd.jupyter.widget-view+json": {
       "model_id": "08f7dcb07883459a8be8296754225e0f",
       "version_major": 2,
       "version_minor": 0
      },
      "text/plain": [
       "  0%|          | 0/32 [00:00<?, ?it/s]"
      ]
     },
     "metadata": {},
     "output_type": "display_data"
    }
   ],
   "source": [
    "for i in tqdm_notebook( range(1,n_pages+1)):\n",
    "    time.sleep(.2)\n",
    "    ## Read in results in progress file and check the length\n",
    "    with open(JSON_FILE, 'r') as f:\n",
    "        previous_results = json.load(f)\n",
    "    ## save number of results for to use as offset\n",
    "    n_results = len(previous_results)\n",
    "    ## use n_results as the OFFSET \n",
    "    results = yelp_api.search_query(location=LOCATION,\n",
    "                                    term=TERM, \n",
    "                                    offset=n_results)\n",
    "    \n",
    "    ## append new results and save to file\n",
    "    previous_results.extend(results['businesses'])\n",
    "    \n",
    "#     display(previous_results)\n",
    "    with open(JSON_FILE,'w') as f:\n",
    "        json.dump(previous_results,f)"
   ]
  },
  {
   "cell_type": "code",
   "execution_count": 14,
   "id": "00ea59f9",
   "metadata": {},
   "outputs": [
    {
     "data": {
      "text/html": [
       "<div>\n",
       "<style scoped>\n",
       "    .dataframe tbody tr th:only-of-type {\n",
       "        vertical-align: middle;\n",
       "    }\n",
       "\n",
       "    .dataframe tbody tr th {\n",
       "        vertical-align: top;\n",
       "    }\n",
       "\n",
       "    .dataframe thead th {\n",
       "        text-align: right;\n",
       "    }\n",
       "</style>\n",
       "<table border=\"1\" class=\"dataframe\">\n",
       "  <thead>\n",
       "    <tr style=\"text-align: right;\">\n",
       "      <th></th>\n",
       "      <th>id</th>\n",
       "      <th>alias</th>\n",
       "      <th>name</th>\n",
       "      <th>image_url</th>\n",
       "      <th>is_closed</th>\n",
       "      <th>url</th>\n",
       "      <th>review_count</th>\n",
       "      <th>categories</th>\n",
       "      <th>rating</th>\n",
       "      <th>coordinates</th>\n",
       "      <th>transactions</th>\n",
       "      <th>price</th>\n",
       "      <th>location</th>\n",
       "      <th>phone</th>\n",
       "      <th>display_phone</th>\n",
       "      <th>distance</th>\n",
       "    </tr>\n",
       "  </thead>\n",
       "  <tbody>\n",
       "    <tr>\n",
       "      <th>0</th>\n",
       "      <td>M1BK_5O_jWRIdlnnQy0yfA</td>\n",
       "      <td>vida-cantina-sf-san-francisco</td>\n",
       "      <td>Vida Cantina SF</td>\n",
       "      <td>https://s3-media2.fl.yelpcdn.com/bphoto/iks36D...</td>\n",
       "      <td>False</td>\n",
       "      <td>https://www.yelp.com/biz/vida-cantina-sf-san-f...</td>\n",
       "      <td>100</td>\n",
       "      <td>[{'alias': 'mexican', 'title': 'Mexican'}, {'a...</td>\n",
       "      <td>4.5</td>\n",
       "      <td>{'latitude': 37.79147, 'longitude': -122.40366}</td>\n",
       "      <td>[delivery, restaurant_reservation, pickup]</td>\n",
       "      <td>$$</td>\n",
       "      <td>{'address1': '56 Belden Ln', 'address2': None,...</td>\n",
       "      <td>+14155253042</td>\n",
       "      <td>(415) 525-3042</td>\n",
       "      <td>170.001073</td>\n",
       "    </tr>\n",
       "    <tr>\n",
       "      <th>1</th>\n",
       "      <td>9DOYWliUAN9S-ECTZp20XQ</td>\n",
       "      <td>hopstone-farm-and-craft-san-francisco</td>\n",
       "      <td>Hopstone - Farm &amp; Craft</td>\n",
       "      <td>https://s3-media3.fl.yelpcdn.com/bphoto/5-iuwj...</td>\n",
       "      <td>False</td>\n",
       "      <td>https://www.yelp.com/biz/hopstone-farm-and-cra...</td>\n",
       "      <td>7</td>\n",
       "      <td>[{'alias': 'breakfast_brunch', 'title': 'Break...</td>\n",
       "      <td>4.5</td>\n",
       "      <td>{'latitude': 37.7936, 'longitude': -122.39991}</td>\n",
       "      <td>[delivery, pickup]</td>\n",
       "      <td>NaN</td>\n",
       "      <td>{'address1': '222 Battery St', 'address2': Non...</td>\n",
       "      <td>+14155362822</td>\n",
       "      <td>(415) 536-2822</td>\n",
       "      <td>359.372300</td>\n",
       "    </tr>\n",
       "    <tr>\n",
       "      <th>2</th>\n",
       "      <td>5Mqsd52IEJtV9dUJAhcTlQ</td>\n",
       "      <td>lucky-creation-vegetarian-restaurant-san-franc...</td>\n",
       "      <td>Lucky Creation Vegetarian Restaurant</td>\n",
       "      <td>https://s3-media1.fl.yelpcdn.com/bphoto/UZY3Qd...</td>\n",
       "      <td>False</td>\n",
       "      <td>https://www.yelp.com/biz/lucky-creation-vegeta...</td>\n",
       "      <td>566</td>\n",
       "      <td>[{'alias': 'vegetarian', 'title': 'Vegetarian'...</td>\n",
       "      <td>4.0</td>\n",
       "      <td>{'latitude': 37.7951059659376, 'longitude': -1...</td>\n",
       "      <td>[delivery, pickup]</td>\n",
       "      <td>$</td>\n",
       "      <td>{'address1': '854 Washington St', 'address2': ...</td>\n",
       "      <td>+14159890818</td>\n",
       "      <td>(415) 989-0818</td>\n",
       "      <td>671.455340</td>\n",
       "    </tr>\n",
       "    <tr>\n",
       "      <th>3</th>\n",
       "      <td>1EWkmc_myDLYfvorOnYzEA</td>\n",
       "      <td>hinodeya-downtown-san-francisco-3</td>\n",
       "      <td>Hinodeya Downtown</td>\n",
       "      <td>https://s3-media3.fl.yelpcdn.com/bphoto/l3ZNeY...</td>\n",
       "      <td>False</td>\n",
       "      <td>https://www.yelp.com/biz/hinodeya-downtown-san...</td>\n",
       "      <td>322</td>\n",
       "      <td>[{'alias': 'ramen', 'title': 'Ramen'}, {'alias...</td>\n",
       "      <td>4.5</td>\n",
       "      <td>{'latitude': 37.794597, 'longitude': -122.404432}</td>\n",
       "      <td>[delivery, pickup]</td>\n",
       "      <td>$$</td>\n",
       "      <td>{'address1': '680 Clay St', 'address2': '', 'a...</td>\n",
       "      <td>+14152006466</td>\n",
       "      <td>(415) 200-6466</td>\n",
       "      <td>467.799356</td>\n",
       "    </tr>\n",
       "    <tr>\n",
       "      <th>4</th>\n",
       "      <td>XKj8_4QdoBMeYcg6OoespA</td>\n",
       "      <td>enjoy-vegetarian-restaurant-san-francisco-2</td>\n",
       "      <td>Enjoy Vegetarian Restaurant</td>\n",
       "      <td>https://s3-media2.fl.yelpcdn.com/bphoto/2NtAI4...</td>\n",
       "      <td>False</td>\n",
       "      <td>https://www.yelp.com/biz/enjoy-vegetarian-rest...</td>\n",
       "      <td>571</td>\n",
       "      <td>[{'alias': 'chinese', 'title': 'Chinese'}]</td>\n",
       "      <td>4.0</td>\n",
       "      <td>{'latitude': 37.7959058, 'longitude': -122.405...</td>\n",
       "      <td>[delivery, pickup]</td>\n",
       "      <td>$$</td>\n",
       "      <td>{'address1': '839 Kearny St', 'address2': '', ...</td>\n",
       "      <td>+14159567868</td>\n",
       "      <td>(415) 956-7868</td>\n",
       "      <td>625.903147</td>\n",
       "    </tr>\n",
       "  </tbody>\n",
       "</table>\n",
       "</div>"
      ],
      "text/plain": [
       "                       id                                              alias  \\\n",
       "0  M1BK_5O_jWRIdlnnQy0yfA                      vida-cantina-sf-san-francisco   \n",
       "1  9DOYWliUAN9S-ECTZp20XQ              hopstone-farm-and-craft-san-francisco   \n",
       "2  5Mqsd52IEJtV9dUJAhcTlQ  lucky-creation-vegetarian-restaurant-san-franc...   \n",
       "3  1EWkmc_myDLYfvorOnYzEA                  hinodeya-downtown-san-francisco-3   \n",
       "4  XKj8_4QdoBMeYcg6OoespA        enjoy-vegetarian-restaurant-san-francisco-2   \n",
       "\n",
       "                                   name  \\\n",
       "0                       Vida Cantina SF   \n",
       "1               Hopstone - Farm & Craft   \n",
       "2  Lucky Creation Vegetarian Restaurant   \n",
       "3                     Hinodeya Downtown   \n",
       "4           Enjoy Vegetarian Restaurant   \n",
       "\n",
       "                                           image_url  is_closed  \\\n",
       "0  https://s3-media2.fl.yelpcdn.com/bphoto/iks36D...      False   \n",
       "1  https://s3-media3.fl.yelpcdn.com/bphoto/5-iuwj...      False   \n",
       "2  https://s3-media1.fl.yelpcdn.com/bphoto/UZY3Qd...      False   \n",
       "3  https://s3-media3.fl.yelpcdn.com/bphoto/l3ZNeY...      False   \n",
       "4  https://s3-media2.fl.yelpcdn.com/bphoto/2NtAI4...      False   \n",
       "\n",
       "                                                 url  review_count  \\\n",
       "0  https://www.yelp.com/biz/vida-cantina-sf-san-f...           100   \n",
       "1  https://www.yelp.com/biz/hopstone-farm-and-cra...             7   \n",
       "2  https://www.yelp.com/biz/lucky-creation-vegeta...           566   \n",
       "3  https://www.yelp.com/biz/hinodeya-downtown-san...           322   \n",
       "4  https://www.yelp.com/biz/enjoy-vegetarian-rest...           571   \n",
       "\n",
       "                                          categories  rating  \\\n",
       "0  [{'alias': 'mexican', 'title': 'Mexican'}, {'a...     4.5   \n",
       "1  [{'alias': 'breakfast_brunch', 'title': 'Break...     4.5   \n",
       "2  [{'alias': 'vegetarian', 'title': 'Vegetarian'...     4.0   \n",
       "3  [{'alias': 'ramen', 'title': 'Ramen'}, {'alias...     4.5   \n",
       "4         [{'alias': 'chinese', 'title': 'Chinese'}]     4.0   \n",
       "\n",
       "                                         coordinates  \\\n",
       "0    {'latitude': 37.79147, 'longitude': -122.40366}   \n",
       "1     {'latitude': 37.7936, 'longitude': -122.39991}   \n",
       "2  {'latitude': 37.7951059659376, 'longitude': -1...   \n",
       "3  {'latitude': 37.794597, 'longitude': -122.404432}   \n",
       "4  {'latitude': 37.7959058, 'longitude': -122.405...   \n",
       "\n",
       "                                 transactions price  \\\n",
       "0  [delivery, restaurant_reservation, pickup]    $$   \n",
       "1                          [delivery, pickup]   NaN   \n",
       "2                          [delivery, pickup]     $   \n",
       "3                          [delivery, pickup]    $$   \n",
       "4                          [delivery, pickup]    $$   \n",
       "\n",
       "                                            location         phone  \\\n",
       "0  {'address1': '56 Belden Ln', 'address2': None,...  +14155253042   \n",
       "1  {'address1': '222 Battery St', 'address2': Non...  +14155362822   \n",
       "2  {'address1': '854 Washington St', 'address2': ...  +14159890818   \n",
       "3  {'address1': '680 Clay St', 'address2': '', 'a...  +14152006466   \n",
       "4  {'address1': '839 Kearny St', 'address2': '', ...  +14159567868   \n",
       "\n",
       "    display_phone    distance  \n",
       "0  (415) 525-3042  170.001073  \n",
       "1  (415) 536-2822  359.372300  \n",
       "2  (415) 989-0818  671.455340  \n",
       "3  (415) 200-6466  467.799356  \n",
       "4  (415) 956-7868  625.903147  "
      ]
     },
     "metadata": {},
     "output_type": "display_data"
    },
    {
     "data": {
      "text/html": [
       "<div>\n",
       "<style scoped>\n",
       "    .dataframe tbody tr th:only-of-type {\n",
       "        vertical-align: middle;\n",
       "    }\n",
       "\n",
       "    .dataframe tbody tr th {\n",
       "        vertical-align: top;\n",
       "    }\n",
       "\n",
       "    .dataframe thead th {\n",
       "        text-align: right;\n",
       "    }\n",
       "</style>\n",
       "<table border=\"1\" class=\"dataframe\">\n",
       "  <thead>\n",
       "    <tr style=\"text-align: right;\">\n",
       "      <th></th>\n",
       "      <th>id</th>\n",
       "      <th>alias</th>\n",
       "      <th>name</th>\n",
       "      <th>image_url</th>\n",
       "      <th>is_closed</th>\n",
       "      <th>url</th>\n",
       "      <th>review_count</th>\n",
       "      <th>categories</th>\n",
       "      <th>rating</th>\n",
       "      <th>coordinates</th>\n",
       "      <th>transactions</th>\n",
       "      <th>price</th>\n",
       "      <th>location</th>\n",
       "      <th>phone</th>\n",
       "      <th>display_phone</th>\n",
       "      <th>distance</th>\n",
       "    </tr>\n",
       "  </thead>\n",
       "  <tbody>\n",
       "    <tr>\n",
       "      <th>623</th>\n",
       "      <td>J3N0MdRMW2cJdq8PHXH0ig</td>\n",
       "      <td>rambler-san-francisco-2</td>\n",
       "      <td>Rambler</td>\n",
       "      <td>https://s3-media1.fl.yelpcdn.com/bphoto/vYKeJj...</td>\n",
       "      <td>False</td>\n",
       "      <td>https://www.yelp.com/biz/rambler-san-francisco...</td>\n",
       "      <td>456</td>\n",
       "      <td>[{'alias': 'cocktailbars', 'title': 'Cocktail ...</td>\n",
       "      <td>3.5</td>\n",
       "      <td>{'latitude': 37.78771, 'longitude': -122.41071}</td>\n",
       "      <td>[delivery]</td>\n",
       "      <td>$$</td>\n",
       "      <td>{'address1': '545 Post St', 'address2': '', 'a...</td>\n",
       "      <td>+14155498008</td>\n",
       "      <td>(415) 549-8008</td>\n",
       "      <td>850.907364</td>\n",
       "    </tr>\n",
       "    <tr>\n",
       "      <th>624</th>\n",
       "      <td>dPKf5l7vCDZIrWQPEHVTEg</td>\n",
       "      <td>peets-coffee-san-francisco-38</td>\n",
       "      <td>Peet's Coffee</td>\n",
       "      <td>https://s3-media2.fl.yelpcdn.com/bphoto/-79LYj...</td>\n",
       "      <td>False</td>\n",
       "      <td>https://www.yelp.com/biz/peets-coffee-san-fran...</td>\n",
       "      <td>33</td>\n",
       "      <td>[{'alias': 'coffee', 'title': 'Coffee &amp; Tea'}]</td>\n",
       "      <td>4.0</td>\n",
       "      <td>{'latitude': 37.791925, 'longitude': -122.3928...</td>\n",
       "      <td>[delivery]</td>\n",
       "      <td>$$</td>\n",
       "      <td>{'address1': '121 Spear St', 'address2': '', '...</td>\n",
       "      <td>+16282203250</td>\n",
       "      <td>(628) 220-3250</td>\n",
       "      <td>804.883495</td>\n",
       "    </tr>\n",
       "    <tr>\n",
       "      <th>625</th>\n",
       "      <td>6dbvfyQnSmPACipuqgEZdw</td>\n",
       "      <td>little-paradise-candy-store-san-francisco</td>\n",
       "      <td>Little Paradise Candy Store</td>\n",
       "      <td>https://s3-media3.fl.yelpcdn.com/bphoto/LXart7...</td>\n",
       "      <td>False</td>\n",
       "      <td>https://www.yelp.com/biz/little-paradise-candy...</td>\n",
       "      <td>3</td>\n",
       "      <td>[{'alias': 'gourmet', 'title': 'Specialty Food'}]</td>\n",
       "      <td>3.5</td>\n",
       "      <td>{'latitude': 37.7959022521973, 'longitude': -1...</td>\n",
       "      <td>[]</td>\n",
       "      <td>NaN</td>\n",
       "      <td>{'address1': '1101 Stockton St', 'address2': '...</td>\n",
       "      <td>+14159860680</td>\n",
       "      <td>(415) 986-0680</td>\n",
       "      <td>805.670342</td>\n",
       "    </tr>\n",
       "    <tr>\n",
       "      <th>626</th>\n",
       "      <td>Qb0rINwKnoMOPp9RpebU-Q</td>\n",
       "      <td>annies-hot-dog-cart-san-francisco-2</td>\n",
       "      <td>Annie's Hot Dog Cart</td>\n",
       "      <td>https://s3-media2.fl.yelpcdn.com/bphoto/WrnqfA...</td>\n",
       "      <td>False</td>\n",
       "      <td>https://www.yelp.com/biz/annies-hot-dog-cart-s...</td>\n",
       "      <td>6</td>\n",
       "      <td>[{'alias': 'foodstands', 'title': 'Food Stands'}]</td>\n",
       "      <td>4.0</td>\n",
       "      <td>{'latitude': 37.785692807166, 'longitude': -12...</td>\n",
       "      <td>[]</td>\n",
       "      <td>$</td>\n",
       "      <td>{'address1': 'Ellis &amp; Market', 'address2': '',...</td>\n",
       "      <td>+14158610778</td>\n",
       "      <td>(415) 861-0778</td>\n",
       "      <td>1152.402444</td>\n",
       "    </tr>\n",
       "    <tr>\n",
       "      <th>627</th>\n",
       "      <td>KTmeAHhB3u51NETxuk7iQg</td>\n",
       "      <td>starbucks-san-francisco-234</td>\n",
       "      <td>Starbucks</td>\n",
       "      <td>https://s3-media2.fl.yelpcdn.com/bphoto/hJFUWE...</td>\n",
       "      <td>False</td>\n",
       "      <td>https://www.yelp.com/biz/starbucks-san-francis...</td>\n",
       "      <td>67</td>\n",
       "      <td>[{'alias': 'coffee', 'title': 'Coffee &amp; Tea'}]</td>\n",
       "      <td>2.0</td>\n",
       "      <td>{'latitude': 37.7844609656521, 'longitude': -1...</td>\n",
       "      <td>[delivery]</td>\n",
       "      <td>$</td>\n",
       "      <td>{'address1': '789 Mission St', 'address2': '',...</td>\n",
       "      <td>+14153436272</td>\n",
       "      <td>(415) 343-6272</td>\n",
       "      <td>735.781776</td>\n",
       "    </tr>\n",
       "  </tbody>\n",
       "</table>\n",
       "</div>"
      ],
      "text/plain": [
       "                         id                                      alias  \\\n",
       "623  J3N0MdRMW2cJdq8PHXH0ig                    rambler-san-francisco-2   \n",
       "624  dPKf5l7vCDZIrWQPEHVTEg              peets-coffee-san-francisco-38   \n",
       "625  6dbvfyQnSmPACipuqgEZdw  little-paradise-candy-store-san-francisco   \n",
       "626  Qb0rINwKnoMOPp9RpebU-Q        annies-hot-dog-cart-san-francisco-2   \n",
       "627  KTmeAHhB3u51NETxuk7iQg                starbucks-san-francisco-234   \n",
       "\n",
       "                            name  \\\n",
       "623                      Rambler   \n",
       "624                Peet's Coffee   \n",
       "625  Little Paradise Candy Store   \n",
       "626         Annie's Hot Dog Cart   \n",
       "627                    Starbucks   \n",
       "\n",
       "                                             image_url  is_closed  \\\n",
       "623  https://s3-media1.fl.yelpcdn.com/bphoto/vYKeJj...      False   \n",
       "624  https://s3-media2.fl.yelpcdn.com/bphoto/-79LYj...      False   \n",
       "625  https://s3-media3.fl.yelpcdn.com/bphoto/LXart7...      False   \n",
       "626  https://s3-media2.fl.yelpcdn.com/bphoto/WrnqfA...      False   \n",
       "627  https://s3-media2.fl.yelpcdn.com/bphoto/hJFUWE...      False   \n",
       "\n",
       "                                                   url  review_count  \\\n",
       "623  https://www.yelp.com/biz/rambler-san-francisco...           456   \n",
       "624  https://www.yelp.com/biz/peets-coffee-san-fran...            33   \n",
       "625  https://www.yelp.com/biz/little-paradise-candy...             3   \n",
       "626  https://www.yelp.com/biz/annies-hot-dog-cart-s...             6   \n",
       "627  https://www.yelp.com/biz/starbucks-san-francis...            67   \n",
       "\n",
       "                                            categories  rating  \\\n",
       "623  [{'alias': 'cocktailbars', 'title': 'Cocktail ...     3.5   \n",
       "624     [{'alias': 'coffee', 'title': 'Coffee & Tea'}]     4.0   \n",
       "625  [{'alias': 'gourmet', 'title': 'Specialty Food'}]     3.5   \n",
       "626  [{'alias': 'foodstands', 'title': 'Food Stands'}]     4.0   \n",
       "627     [{'alias': 'coffee', 'title': 'Coffee & Tea'}]     2.0   \n",
       "\n",
       "                                           coordinates transactions price  \\\n",
       "623    {'latitude': 37.78771, 'longitude': -122.41071}   [delivery]    $$   \n",
       "624  {'latitude': 37.791925, 'longitude': -122.3928...   [delivery]    $$   \n",
       "625  {'latitude': 37.7959022521973, 'longitude': -1...           []   NaN   \n",
       "626  {'latitude': 37.785692807166, 'longitude': -12...           []     $   \n",
       "627  {'latitude': 37.7844609656521, 'longitude': -1...   [delivery]     $   \n",
       "\n",
       "                                              location         phone  \\\n",
       "623  {'address1': '545 Post St', 'address2': '', 'a...  +14155498008   \n",
       "624  {'address1': '121 Spear St', 'address2': '', '...  +16282203250   \n",
       "625  {'address1': '1101 Stockton St', 'address2': '...  +14159860680   \n",
       "626  {'address1': 'Ellis & Market', 'address2': '',...  +14158610778   \n",
       "627  {'address1': '789 Mission St', 'address2': '',...  +14153436272   \n",
       "\n",
       "      display_phone     distance  \n",
       "623  (415) 549-8008   850.907364  \n",
       "624  (628) 220-3250   804.883495  \n",
       "625  (415) 986-0680   805.670342  \n",
       "626  (415) 861-0778  1152.402444  \n",
       "627  (415) 343-6272   735.781776  "
      ]
     },
     "metadata": {},
     "output_type": "display_data"
    }
   ],
   "source": [
    "# load final results\n",
    "final_df = pd.read_json(JSON_FILE)\n",
    "display(final_df.head(), final_df.tail())"
   ]
  },
  {
   "cell_type": "code",
   "execution_count": 15,
   "id": "f5ff7bff",
   "metadata": {},
   "outputs": [
    {
     "data": {
      "text/plain": [
       "4"
      ]
     },
     "execution_count": 15,
     "metadata": {},
     "output_type": "execute_result"
    }
   ],
   "source": [
    "# check for duplicate IDs\n",
    "final_df.duplicated(subset='id').sum()"
   ]
  },
  {
   "cell_type": "code",
   "execution_count": 22,
   "id": "d1b4ca73",
   "metadata": {},
   "outputs": [],
   "source": [
    "final_df = final_df.drop_duplicates(subset='id')"
   ]
  },
  {
   "cell_type": "code",
   "execution_count": 23,
   "id": "c9884ea1",
   "metadata": {},
   "outputs": [],
   "source": [
    "# save the final results\n",
    "final_df.to_csv('Data/final_results_vegan_food_SF.csv',index=False)"
   ]
  }
 ],
 "metadata": {
  "kernelspec": {
   "display_name": "Python (dojo-env)",
   "language": "python",
   "name": "dojo-env"
  },
  "language_info": {
   "codemirror_mode": {
    "name": "ipython",
    "version": 3
   },
   "file_extension": ".py",
   "mimetype": "text/x-python",
   "name": "python",
   "nbconvert_exporter": "python",
   "pygments_lexer": "ipython3",
   "version": "3.7.12"
  },
  "toc": {
   "base_numbering": 1,
   "nav_menu": {},
   "number_sections": true,
   "sideBar": true,
   "skip_h1_title": false,
   "title_cell": "Table of Contents",
   "title_sidebar": "Contents",
   "toc_cell": false,
   "toc_position": {},
   "toc_section_display": true,
   "toc_window_display": false
  }
 },
 "nbformat": 4,
 "nbformat_minor": 5
}
